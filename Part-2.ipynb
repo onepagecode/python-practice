{
 "cells": [
  {
   "cell_type": "code",
   "execution_count": null,
   "metadata": {
    "collapsed": true
   },
   "outputs": [],
   "source": [
    "import numpy\n",
    "import scipy.special"
   ]
  },
  {
   "cell_type": "code",
   "execution_count": null,
   "outputs": [],
   "source": [
    "class neuralNetwork:\n",
    "\n",
    "    # initalise the neural network\n",
    "    def __init__(self, inputnodes, hiddennodes, outputnodes, learningrate):\n",
    "        self.inodes = inputnodes\n",
    "        self.hnodes = hiddennodes\n",
    "        self.onodes = outputnodes\n",
    "\n",
    "        # link weight metrics, wih and who\n",
    "        # weights inisde the array are w_i_j, where link is from node i to node j in the next layer\n",
    "        #w11 w21\n",
    "        #s12 s22 etc\n",
    "\n",
    "        self.wih = numpy.random.normal(0.0, pow(self.inodes, -0.5), (self.hnodes, self.inodes))\n",
    "        self.who = numpy.random.normal(0.0, pow(self.hnodes, -0.5), (self.onodes, self.hnodes))\n",
    "\n",
    "        #learning rate\n",
    "        self.lr = learningrate\n",
    "\n",
    "        #activation function is the sigmoid function\n",
    "        self.activation_function = lambda x:scipy.special.expit(x)\n",
    "\n",
    "        pass\n",
    "\n",
    "    def  train(selfself, inputs_list, targets_list):\n",
    "        # covert inputs list to 2d array\n",
    "        inputs = numpy.array(inputs_list, ndmin = 2).T\n",
    "        targets = numpy.array(targets_list, ndmin = 2).T\n",
    "\n",
    "        # calculate signals into hidden layer\n",
    "        hidden_input = numpy.dot(self.wih, inputs)\n",
    "        #calculate the signals emerging from hidden layer\n",
    "        hidden_output = self.activation_function(hidden_input)\n",
    "\n",
    "        #calculate signals into final output layer\n",
    "        final_inputs = numpy.dot(self.who, hidden_output)\n",
    "\n",
    "        #calculate the singals emerging from final output layer\n",
    "        final_output = self.activation_function(final_inputs)\n",
    "\n",
    "        #output layer error is the (target -actual)\n",
    "        output_errors = target - final_outputs\n",
    "\n",
    "        #hidden layers errors is the output_errors, split by weights, recombined at hidden nodes\n",
    "        hidden_errors = numpy.dot(self.who.T, output_errors)\n",
    "\n",
    "        #update the weights for the links between the hidden and output layers\n",
    "        self.who += self.lr * numpy.dot((output_errors * final_outputs * (1.0 -final_output)), numpy.transpose(hidden_output))\n",
    "\n",
    "        # update the weights for the links between the input and hiddden layers\n",
    "        self.wih += self.lr * numpy.dot((hidden_errors * hidden_output * (1.0 - hidden_output)), numpy.transpose(inputs))\n",
    "\n",
    "        pass\n",
    "\n",
    "        #query the neural network\n",
    "        def query(self, inputs_list):\n",
    "\n",
    "            # convert inputs list to 2d array\n",
    "            inputs = numpy.array(inputs_list, ndmin = 2).T\n",
    "\n",
    "            # calculate signals into hidden layers\n",
    "            hidden_input = numpy.dot(self.wih, inputs)\n",
    "\n",
    "            # calculate the signals emerging from hidden layer\n",
    "            hidden_outputs = self.activation_function(hidden_inputs)\n",
    "\n",
    "            # calculate signals into final output layer\n",
    "            final_inputs = numpy.dot(self.who, hidden_outputs)\n",
    "\n",
    "            #calculate the signals emerging from final outpu7t layer\n",
    "            final_output = self.activation_function(final_output)\n",
    "            #\n",
    "            return final_output\n",
    "\n",
    "input_nodes = 3\n",
    "hidden_nodes = 3\n",
    "output_nodes = 3\n",
    "\n",
    "learning_rate = 0.3\n",
    "\n",
    "n = neuralNetwork(input_nodes,hidden_nodes,output_nodes, learning_rate)\n",
    "\n",
    "n.query([1.0, 0.5, -1.5])\n",
    "\n"
   ],
   "metadata": {
    "collapsed": false,
    "pycharm": {
     "name": "#%%\n"
    }
   }
  }
 ],
 "metadata": {
  "kernelspec": {
   "display_name": "Python 3",
   "language": "python",
   "name": "python3"
  },
  "language_info": {
   "codemirror_mode": {
    "name": "ipython",
    "version": 2
   },
   "file_extension": ".py",
   "mimetype": "text/x-python",
   "name": "python",
   "nbconvert_exporter": "python",
   "pygments_lexer": "ipython2",
   "version": "2.7.6"
  }
 },
 "nbformat": 4,
 "nbformat_minor": 0
}