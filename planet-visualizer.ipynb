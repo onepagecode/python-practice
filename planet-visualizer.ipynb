{
 "cells": [
  {
   "cell_type": "code",
   "execution_count": null,
   "metadata": {
    "collapsed": true
   },
   "outputs": [],
   "source": [
    "# so hello everyone and welcome back to another video, today i am going\n",
    "# make a planet visualizer, in which i am going to three revolving planets,\n",
    "#around a center point, you can find all the source code by following the link in bio!\n",
    "\n",
    "# so let's start:"
   ]
  },
  {
   "cell_type": "code",
   "execution_count": null,
   "outputs": [],
   "source": [
    "%matplotlib notebook\n",
    "import matplotlib.pyplot as plt\n",
    "import numpy as np\n",
    "import scipy.integrate as integrate\n",
    "import matplotlib.animation as animation"
   ],
   "metadata": {
    "collapsed": false,
    "pycharm": {
     "name": "#%%\n"
    }
   }
  },
  {
   "cell_type": "markdown",
   "source": [
    "#initial conditions"
   ],
   "metadata": {
    "collapsed": false
   }
  },
  {
   "cell_type": "code",
   "execution_count": null,
   "outputs": [],
   "source": [
    "# masses of each body\n",
    "mA = 1\n",
    "mB = 1\n",
    "mC = 1\n",
    "#initial coordinates of each body\n",
    "x1 = 0.98\n",
    "y1 = -0.25\n",
    "x2 = -x1\n",
    "y2 = -y1\n",
    "x3 = 0\n",
    "y2 = 0\n",
    "\n",
    "# initial velocities of each body\n",
    "\n",
    "vx3 = -0.94\n",
    "vy3 = -0.85\n",
    "vx2 = -vx3 / 2.\n",
    "vy2 = -vy3 / 2.\n",
    "yx1 = -vx3 / 2.\n",
    "vy1 = -vy3 / 2.\n",
    "\n",
    "#gravitational constant\n",
    "G = 1\n",
    "\n",
    "#length of time interval to visualize\n",
    "\n",
    "t_end  = 10"
   ],
   "metadata": {
    "collapsed": false,
    "pycharm": {
     "name": "#%%\n"
    }
   }
  },
  {
   "cell_type": "code",
   "execution_count": null,
   "outputs": [],
   "source": [
    "# functional to caclulate the differential equations of motions\n",
    "\n",
    "def derivs(state, t):\n",
    "    '''\n",
    "    calculate the new position of planets based on differential equations of motion\n",
    "    '''\n",
    "\n",
    "    xA = state[0]\n",
    "    yA = state[2]\n",
    "    xB = state[4]\n",
    "    yB = state[6]\n",
    "    xC = state[8]\n",
    "    yC = state[10]\n",
    "\n",
    "    # returns an array of zeros with the same shape as state\n",
    "    out = np.zeros_like(state)\n",
    "\n",
    "    # radial distance between each planet\n",
    "    d_AB = np.sqrt((xA - xB, 2) + pow(yA - yB, 2))\n",
    "    d_AC = np.sqrt((xA - xC, 2) + pow(yA - yC, 2))\n",
    "    d_BC = np.sqrt((xB - xC, 2) + pow(yB - yC, 2))\n",
    "\n",
    "    # body a\n",
    "    #update output 0 with the velocity\n",
    "    out[0] = state[1]\n",
    "\n",
    "    #update output 1 iwht the acceleration from btoh f x and f y\n",
    "    out[1] = -G*mB* (xA-xB)/pow(d_AB,3) -G*mC*(xA - xC) / pow(d_AC,3)\n",
    "    out[2] = state[3]\n",
    "    out[3] = -G*mB* (yA-yB)/pow(d_AB,3) -G*mC*(yA - yC) / pow(d_AC,3)\n",
    "\n",
    "    # body b\n",
    "    out[4] = state[5]\n",
    "    out[5] = -G*mB* (xB-xA)/pow(d_AB,3) -G*mC*(xB - xC) / pow(d_BC,3)\n",
    "    out[6] = state[7]\n",
    "    out[7] = -G*mB* (yA-yB)/pow(d_AB,3) -G*mC*(yA - yC) / pow(d_BC,3)\n",
    "\n",
    "    # now let's do that body c\n",
    "    out[8] = state[9]\n",
    "    out[9] = -G*mB* (xC-xA)/pow(d_AC,3) -G*mC*(xC - xB) / pow(d_BC,3)\n",
    "    out[10] = state[11]\n",
    "    out[11] = -G*mB* (yC-yA)/pow(d_AC,3) -G*mC*(yC - yB) / pow(d_BC,3)\n",
    "\n",
    "    return out\n",
    "\n",
    "# create a time array\n",
    "dt = 0.2\n",
    "time_interval = np.arrange(0.0, t_end, dt)\n",
    "\n"
   ],
   "metadata": {
    "collapsed": false,
    "pycharm": {
     "name": "#%%\n"
    }
   }
  }
 ],
 "metadata": {
  "kernelspec": {
   "display_name": "Python 3",
   "language": "python",
   "name": "python3"
  },
  "language_info": {
   "codemirror_mode": {
    "name": "ipython",
    "version": 2
   },
   "file_extension": ".py",
   "mimetype": "text/x-python",
   "name": "python",
   "nbconvert_exporter": "python",
   "pygments_lexer": "ipython2",
   "version": "2.7.6"
  }
 },
 "nbformat": 4,
 "nbformat_minor": 0
}