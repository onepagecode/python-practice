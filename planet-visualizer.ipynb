{
 "cells": [
  {
   "cell_type": "code",
   "execution_count": 1,
   "metadata": {
    "collapsed": true
   },
   "outputs": [],
   "source": [
    "# so hello everyone and welcome back to another video, today i am going\n",
    "# make a planet visualizer, in which i am going to three revolving planets,\n",
    "#around a center point, you can find all the source code by following the link in bio!\n",
    "\n",
    "# so let's start:"
   ]
  },
  {
   "cell_type": "code",
   "execution_count": 2,
   "outputs": [],
   "source": [
    "%matplotlib notebook\n",
    "import matplotlib.pyplot as plt\n",
    "import numpy as np\n",
    "import scipy.integrate as integrate\n",
    "import matplotlib.animation as animation"
   ],
   "metadata": {
    "collapsed": false,
    "pycharm": {
     "name": "#%%\n"
    }
   }
  },
  {
   "cell_type": "markdown",
   "source": [
    "#initial conditions"
   ],
   "metadata": {
    "collapsed": false
   }
  },
  {
   "cell_type": "code",
   "execution_count": 3,
   "outputs": [],
   "source": [
    "# masses of each body\n",
    "mA = 1\n",
    "mB = 1\n",
    "mC = 1\n",
    "#initial coordinates of each body\n",
    "x1 = 0.98\n",
    "y1 = -0.25\n",
    "x2 = -x1\n",
    "y2 = -y1\n",
    "x3 = 0\n",
    "y3 = 0\n",
    "\n",
    "# initial velocities of each body\n",
    "\n",
    "\n",
    "vx3 = -0.94\n",
    "vy3 = -0.85\n",
    "vx2 = -vx3 / 2.\n",
    "vy2 = -vy3 / 2.\n",
    "yx1 = -vx3 / 2.\n",
    "vy1 = -vy3 / 2\n",
    "vx1 = -vx2 / 2.\n",
    "\n",
    "#gravitational constant\n",
    "G = 1\n",
    "\n",
    "#length of time interval to visualize\n",
    "\n",
    "t_end  = 10"
   ],
   "metadata": {
    "collapsed": false,
    "pycharm": {
     "name": "#%%\n"
    }
   }
  },
  {
   "cell_type": "code",
   "execution_count": 4,
   "outputs": [
    {
     "ename": "AttributeError",
     "evalue": "module 'numpy' has no attribute 'arrange'",
     "output_type": "error",
     "traceback": [
      "\u001B[1;31m---------------------------------------------------------------------------\u001B[0m",
      "\u001B[1;31mAttributeError\u001B[0m                            Traceback (most recent call last)",
      "\u001B[1;32m~\\AppData\\Local\\Temp/ipykernel_13048/3238839749.py\u001B[0m in \u001B[0;36m<module>\u001B[1;34m\u001B[0m\n\u001B[0;32m     46\u001B[0m \u001B[1;31m# create a time array\u001B[0m\u001B[1;33m\u001B[0m\u001B[1;33m\u001B[0m\u001B[1;33m\u001B[0m\u001B[0m\n\u001B[0;32m     47\u001B[0m \u001B[0mdt\u001B[0m \u001B[1;33m=\u001B[0m \u001B[1;36m0.2\u001B[0m\u001B[1;33m\u001B[0m\u001B[1;33m\u001B[0m\u001B[0m\n\u001B[1;32m---> 48\u001B[1;33m \u001B[0mtime_interval\u001B[0m \u001B[1;33m=\u001B[0m \u001B[0mnp\u001B[0m\u001B[1;33m.\u001B[0m\u001B[0marrange\u001B[0m\u001B[1;33m(\u001B[0m\u001B[1;36m0.0\u001B[0m\u001B[1;33m,\u001B[0m \u001B[0mt_end\u001B[0m\u001B[1;33m,\u001B[0m \u001B[0mdt\u001B[0m\u001B[1;33m)\u001B[0m\u001B[1;33m\u001B[0m\u001B[1;33m\u001B[0m\u001B[0m\n\u001B[0m\u001B[0;32m     49\u001B[0m \u001B[1;33m\u001B[0m\u001B[0m\n\u001B[0;32m     50\u001B[0m \u001B[1;31m# initial state with inital coordinates and velocities\u001B[0m\u001B[1;33m\u001B[0m\u001B[1;33m\u001B[0m\u001B[1;33m\u001B[0m\u001B[0m\n",
      "\u001B[1;32mc:\\python3\\lib\\site-packages\\numpy\\__init__.py\u001B[0m in \u001B[0;36m__getattr__\u001B[1;34m(attr)\u001B[0m\n\u001B[0;32m    212\u001B[0m                 \u001B[1;32mreturn\u001B[0m \u001B[0mTester\u001B[0m\u001B[1;33m\u001B[0m\u001B[1;33m\u001B[0m\u001B[0m\n\u001B[0;32m    213\u001B[0m             \u001B[1;32melse\u001B[0m\u001B[1;33m:\u001B[0m\u001B[1;33m\u001B[0m\u001B[1;33m\u001B[0m\u001B[0m\n\u001B[1;32m--> 214\u001B[1;33m                 raise AttributeError(\"module {!r} has no attribute \"\n\u001B[0m\u001B[0;32m    215\u001B[0m                                      \"{!r}\".format(__name__, attr))\n\u001B[0;32m    216\u001B[0m \u001B[1;33m\u001B[0m\u001B[0m\n",
      "\u001B[1;31mAttributeError\u001B[0m: module 'numpy' has no attribute 'arrange'"
     ]
    }
   ],
   "source": [
    "# functional to caclulate the differential equations of motions\n",
    "\n",
    "def derivs(state, t):\n",
    "    '''\n",
    "    calculate the new position of planets based on differential equations of motion\n",
    "    '''\n",
    "\n",
    "    xA = state[0]\n",
    "    yA = state[2]\n",
    "    xB = state[4]\n",
    "    yB = state[6]\n",
    "    xC = state[8]\n",
    "    yC = state[10]\n",
    "\n",
    "    # returns an array of zeros with the same shape as state\n",
    "    out = np.zeros_like(state)\n",
    "\n",
    "    # radial distance between each planet\n",
    "    d_AB = np.sqrt((xA - xB, 2) + pow(yA - yB, 2))\n",
    "    d_AC = np.sqrt((xA - xC, 2) + pow(yA - yC, 2))\n",
    "    d_BC = np.sqrt((xB - xC, 2) + pow(yB - yC, 2))\n",
    "\n",
    "    # body a\n",
    "    #update output 0 with the velocity\n",
    "    out[0] = state[1]\n",
    "\n",
    "    #update output 1 iwht the acceleration from btoh f x and f y\n",
    "    out[1] = -G*mB* (xA-xB)/pow(d_AB,3) -G*mC*(xA - xC) / pow(d_AC,3)\n",
    "    out[2] = state[3]\n",
    "    out[3] = -G*mB* (yA-yB)/pow(d_AB,3) -G*mC*(yA - yC) / pow(d_AC,3)\n",
    "\n",
    "    # body b\n",
    "    out[4] = state[5]\n",
    "    out[5] = -G*mB* (xB-xA)/pow(d_AB,3) -G*mC*(xB - xC) / pow(d_BC,3)\n",
    "    out[6] = state[7]\n",
    "    out[7] = -G*mB* (yA-yB)/pow(d_AB,3) -G*mC*(yA - yC) / pow(d_BC,3)\n",
    "\n",
    "    # now let's do that body c\n",
    "    out[8] = state[9]\n",
    "    out[9] = -G*mB* (xC-xA)/pow(d_AC,3) -G*mC*(xC - xB) / pow(d_BC,3)\n",
    "    out[10] = state[11]\n",
    "    out[11] = -G*mB* (yC-yA)/pow(d_AC,3) -G*mC*(yC - yB) / pow(d_BC,3)\n",
    "\n",
    "    return out\n",
    "\n",
    "# create a time array\n",
    "dt = 0.2\n",
    "time_interval = np.arrange(0.0, t_end, dt)\n",
    "\n",
    "# initial state with inital coordinates and velocities\n",
    "state= (x1,vx1, y1, vy1, x2,vx2, y2,vy2, x3,vx3,vy3,y3 )\n",
    "\n",
    "# integrate so that output velocity new position and output acceleration new velocities\n",
    "\n",
    "position = integrate.odeint(derivs, state, time_interval)"
   ],
   "metadata": {
    "collapsed": false,
    "pycharm": {
     "name": "#%%\n"
    }
   }
  },
  {
   "cell_type": "code",
   "execution_count": null,
   "outputs": [],
   "source": [
    "# animation of the orbits\n",
    "\n",
    "#create a plot\n",
    "\n",
    "fig = plt.figure()\n",
    "ax = fig.add_subplot(111, autoscale_on = False, xlim=(-4,4), ylim=(-4,4))\n",
    "ax.grid()\n",
    "\n",
    "#create markers for each body\n",
    "mA_marker, = ax.plot([],[],'o-', markersize = 10)\n",
    "mB_marker, = ax.plot([], [],'o-', markersize = 10)\n",
    "mC_marker, = ax.plot([], [],'o-', markersize = 10)\n",
    "\n",
    "time_template = 'time = %0.fs'\n",
    "time_text = ax.text(0.05, 0.9, '', transform = ax.transAxes)\n",
    "\n",
    "itime = 0\n",
    "\n",
    "def init():\n",
    "    mA_marker.set_data ([],[])\n",
    "    mC_marker.set_data ([],[])\n",
    "    mB_marker.set_data ([],[])\n",
    "    time_text.set_text(' ')\n",
    "    return mA_marker, mB_marker, mC_marker, time_text\n",
    "\n",
    "def animate(i):\n",
    "    mA_marker.set_data(position[i][0], position[i][2])\n",
    "    mB_marker.set_data(position[i][4], position[i][6])\n",
    "    mC_marker.set_data(position[i][8], position[i][10])\n",
    "    time_text.set_text(time_template % (i*dt))\n",
    "    return mA_marker, mB_marker, mC_marker, time_text\n",
    "\n",
    "# create the animation\n",
    "\n",
    "ani = animation.FuncAnimation(fig, animate, np.arange(1, len(time_interval)),\n",
    "                              interval=200, blit= True, init_func=init)"
   ],
   "metadata": {
    "collapsed": false,
    "pycharm": {
     "name": "#%%\n"
    }
   }
  }
 ],
 "metadata": {
  "kernelspec": {
   "display_name": "Python 3",
   "language": "python",
   "name": "python3"
  },
  "language_info": {
   "codemirror_mode": {
    "name": "ipython",
    "version": 2
   },
   "file_extension": ".py",
   "mimetype": "text/x-python",
   "name": "python",
   "nbconvert_exporter": "python",
   "pygments_lexer": "ipython2",
   "version": "2.7.6"
  }
 },
 "nbformat": 4,
 "nbformat_minor": 0
}